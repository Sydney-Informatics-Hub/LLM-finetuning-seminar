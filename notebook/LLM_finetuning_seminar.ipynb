{
 "cells": [
  {
   "cell_type": "markdown",
   "metadata": {},
   "source": [
    "# LLM Fine-Tuning\n",
    "\n",
    "This is a companion notebook to the SIH seminar LLM Fine-tuning.\n",
    "In this example we will use OpenAI's finetuning API and start with the base model GPT-3.5.\n",
    "The notebook will demonstrate on two examples the following finetuning processes:\n",
    "- prepare dataset for finetuning\n",
    "- validate dataset and estimate tokens and cost\n",
    "- submit finetuning model for training\n",
    "- evaluate model\n",
    "- use model and integrate in workflow\n",
    "\n",
    "Author: Sebastian Haan"
   ]
  },
  {
   "cell_type": "markdown",
   "metadata": {},
   "source": [
    "## Installation \n",
    "\n",
    "Recommend to setup a new python environment (e.g. with conda).\n",
    "Install following packages if not installed yet:"
   ]
  },
  {
   "cell_type": "code",
   "execution_count": 115,
   "metadata": {},
   "outputs": [
    {
     "name": "stdout",
     "output_type": "stream",
     "text": [
      "Requirement already satisfied: torch in /Users/seb/mambaforge/envs/llm/lib/python3.11/site-packages (2.1.0)\n",
      "Requirement already satisfied: timm in /Users/seb/mambaforge/envs/llm/lib/python3.11/site-packages (0.9.10)\n",
      "Requirement already satisfied: tiktoken in /Users/seb/mambaforge/envs/llm/lib/python3.11/site-packages (0.5.1)\n",
      "Collecting tabulate\n",
      "  Downloading tabulate-0.9.0-py3-none-any.whl (35 kB)\n",
      "Requirement already satisfied: filelock in /Users/seb/mambaforge/envs/llm/lib/python3.11/site-packages (from torch) (3.13.1)\n",
      "Requirement already satisfied: typing-extensions in /Users/seb/mambaforge/envs/llm/lib/python3.11/site-packages (from torch) (4.8.0)\n",
      "Requirement already satisfied: sympy in /Users/seb/mambaforge/envs/llm/lib/python3.11/site-packages (from torch) (1.12)\n",
      "Requirement already satisfied: networkx in /Users/seb/mambaforge/envs/llm/lib/python3.11/site-packages (from torch) (3.2.1)\n",
      "Requirement already satisfied: jinja2 in /Users/seb/mambaforge/envs/llm/lib/python3.11/site-packages (from torch) (3.1.2)\n",
      "Requirement already satisfied: fsspec in /Users/seb/mambaforge/envs/llm/lib/python3.11/site-packages (from torch) (2023.10.0)\n",
      "Requirement already satisfied: torchvision in /Users/seb/mambaforge/envs/llm/lib/python3.11/site-packages (from timm) (0.16.0)\n",
      "Requirement already satisfied: pyyaml in /Users/seb/mambaforge/envs/llm/lib/python3.11/site-packages (from timm) (6.0.1)\n",
      "Requirement already satisfied: huggingface-hub in /Users/seb/mambaforge/envs/llm/lib/python3.11/site-packages (from timm) (0.19.1)\n",
      "Requirement already satisfied: safetensors in /Users/seb/mambaforge/envs/llm/lib/python3.11/site-packages (from timm) (0.4.0)\n",
      "Requirement already satisfied: regex>=2022.1.18 in /Users/seb/mambaforge/envs/llm/lib/python3.11/site-packages (from tiktoken) (2023.10.3)\n",
      "Requirement already satisfied: requests>=2.26.0 in /Users/seb/mambaforge/envs/llm/lib/python3.11/site-packages (from tiktoken) (2.31.0)\n",
      "Requirement already satisfied: charset-normalizer<4,>=2 in /Users/seb/mambaforge/envs/llm/lib/python3.11/site-packages (from requests>=2.26.0->tiktoken) (3.3.2)\n",
      "Requirement already satisfied: idna<4,>=2.5 in /Users/seb/mambaforge/envs/llm/lib/python3.11/site-packages (from requests>=2.26.0->tiktoken) (3.4)\n",
      "Requirement already satisfied: urllib3<3,>=1.21.1 in /Users/seb/mambaforge/envs/llm/lib/python3.11/site-packages (from requests>=2.26.0->tiktoken) (2.0.7)\n",
      "Requirement already satisfied: certifi>=2017.4.17 in /Users/seb/mambaforge/envs/llm/lib/python3.11/site-packages (from requests>=2.26.0->tiktoken) (2023.7.22)\n",
      "Requirement already satisfied: tqdm>=4.42.1 in /Users/seb/mambaforge/envs/llm/lib/python3.11/site-packages (from huggingface-hub->timm) (4.66.1)\n",
      "Requirement already satisfied: packaging>=20.9 in /Users/seb/mambaforge/envs/llm/lib/python3.11/site-packages (from huggingface-hub->timm) (23.2)\n",
      "Requirement already satisfied: MarkupSafe>=2.0 in /Users/seb/mambaforge/envs/llm/lib/python3.11/site-packages (from jinja2->torch) (2.1.3)\n",
      "Requirement already satisfied: mpmath>=0.19 in /Users/seb/mambaforge/envs/llm/lib/python3.11/site-packages (from sympy->torch) (1.3.0)\n",
      "Requirement already satisfied: numpy in /Users/seb/mambaforge/envs/llm/lib/python3.11/site-packages (from torchvision->timm) (1.26.0)\n",
      "Requirement already satisfied: pillow!=8.3.*,>=5.3.0 in /Users/seb/mambaforge/envs/llm/lib/python3.11/site-packages (from torchvision->timm) (10.1.0)\n",
      "Installing collected packages: tabulate\n",
      "Successfully installed tabulate-0.9.0\n",
      "Requirement already satisfied: openai in /Users/seb/mambaforge/envs/llm/lib/python3.11/site-packages (1.2.4)\n",
      "Requirement already satisfied: anyio<4,>=3.5.0 in /Users/seb/mambaforge/envs/llm/lib/python3.11/site-packages (from openai) (3.7.1)\n",
      "Requirement already satisfied: distro<2,>=1.7.0 in /Users/seb/mambaforge/envs/llm/lib/python3.11/site-packages (from openai) (1.8.0)\n",
      "Requirement already satisfied: httpx<1,>=0.23.0 in /Users/seb/mambaforge/envs/llm/lib/python3.11/site-packages (from openai) (0.25.1)\n",
      "Requirement already satisfied: pydantic<3,>=1.9.0 in /Users/seb/mambaforge/envs/llm/lib/python3.11/site-packages (from openai) (2.5.0)\n",
      "Requirement already satisfied: tqdm>4 in /Users/seb/mambaforge/envs/llm/lib/python3.11/site-packages (from openai) (4.66.1)\n",
      "Requirement already satisfied: typing-extensions<5,>=4.5 in /Users/seb/mambaforge/envs/llm/lib/python3.11/site-packages (from openai) (4.8.0)\n",
      "Requirement already satisfied: idna>=2.8 in /Users/seb/mambaforge/envs/llm/lib/python3.11/site-packages (from anyio<4,>=3.5.0->openai) (3.4)\n",
      "Requirement already satisfied: sniffio>=1.1 in /Users/seb/mambaforge/envs/llm/lib/python3.11/site-packages (from anyio<4,>=3.5.0->openai) (1.3.0)\n",
      "Requirement already satisfied: certifi in /Users/seb/mambaforge/envs/llm/lib/python3.11/site-packages (from httpx<1,>=0.23.0->openai) (2023.7.22)\n",
      "Requirement already satisfied: httpcore in /Users/seb/mambaforge/envs/llm/lib/python3.11/site-packages (from httpx<1,>=0.23.0->openai) (1.0.2)\n",
      "Requirement already satisfied: annotated-types>=0.4.0 in /Users/seb/mambaforge/envs/llm/lib/python3.11/site-packages (from pydantic<3,>=1.9.0->openai) (0.6.0)\n",
      "Requirement already satisfied: pydantic-core==2.14.1 in /Users/seb/mambaforge/envs/llm/lib/python3.11/site-packages (from pydantic<3,>=1.9.0->openai) (2.14.1)\n",
      "Requirement already satisfied: h11<0.15,>=0.13 in /Users/seb/mambaforge/envs/llm/lib/python3.11/site-packages (from httpcore->httpx<1,>=0.23.0->openai) (0.14.0)\n"
     ]
    }
   ],
   "source": [
    "!pip install timm tiktoken tabulate ipython matplotlib pandas numpy openai"
   ]
  },
  {
   "cell_type": "markdown",
   "metadata": {},
   "source": [
    "### Import dependencies"
   ]
  },
  {
   "cell_type": "code",
   "execution_count": 1,
   "metadata": {},
   "outputs": [],
   "source": [
    "# Add package libraries in folder tools\n",
    "import sys\n",
    "import os\n",
    "import openai\n",
    "import torch\n",
    "import json\n",
    "import tiktoken\n",
    "import requests\n",
    "import pandas as pd\n",
    "import numpy as np\n",
    "from IPython.display import display, Markdown"
   ]
  },
  {
   "cell_type": "markdown",
   "metadata": {},
   "source": [
    "## OpenAI Authentication\n",
    "\n",
    "Authentication with your OpenAI API key for GPT usage (base model here: GPT-3.5-turbo).\n",
    "Note that this will incur charges on your OpenAI account."
   ]
  },
  {
   "cell_type": "code",
   "execution_count": 2,
   "metadata": {},
   "outputs": [],
   "source": [
    "# Note: Authentication changed with new openai version\n",
    "# Authentication can be done by setting the environment variable OPENAI_API_KEY \n",
    "# or via the api_key parameter in the constructor:\n",
    "from openai import OpenAI\n",
    "\n",
    "with open(os.path.expanduser(\"../../openai_sih_key.txt\")) as f:\n",
    "    openai.api_key = f.read().strip()\n",
    "\n",
    "client = OpenAI(api_key = openai.api_key)"
   ]
  },
  {
   "cell_type": "markdown",
   "metadata": {},
   "source": [
    "### Test Query"
   ]
  },
  {
   "cell_type": "code",
   "execution_count": 3,
   "metadata": {},
   "outputs": [],
   "source": [
    "def query_gpt(query, model, system_str = \"You are a helpful assistant.\", temperature =0, max_tokens=1000):\n",
    "  response = client.chat.completions.create(\n",
    "    model=model,\n",
    "    messages=[\n",
    "      {\"role\": \"system\", \"content\": system_str},\n",
    "      {\"role\": \"user\", \"content\": query},\n",
    "    ],\n",
    "    temperature=temperature,\n",
    "    max_tokens=max_tokens,\n",
    "  )\n",
    "  return response.choices[0].message.content"
   ]
  },
  {
   "cell_type": "code",
   "execution_count": 4,
   "metadata": {},
   "outputs": [
    {
     "data": {
      "text/markdown": [
       "As an AI language model, I don't have a specific training date cut-off. My training data includes a wide range of information from various sources up until September 2021. However, please note that I may not have access to real-time information or recent events beyond my training date."
      ],
      "text/plain": [
       "<IPython.core.display.Markdown object>"
      ]
     },
     "metadata": {},
     "output_type": "display_data"
    }
   ],
   "source": [
    "query = \"What is your training date cut-off?\"\n",
    "result = query_gpt(query, model = \"gpt-3.5-turbo\")\n",
    "display(Markdown(result))"
   ]
  },
  {
   "cell_type": "code",
   "execution_count": 6,
   "metadata": {},
   "outputs": [
    {
     "data": {
      "text/markdown": [
       "As of my last update in October 2021, OpenAI has not released any specific information about a GPT-4 Vision API. Therefore, I don't have any details about it at the moment. It's always a good idea to check OpenAI's official website or blog for the latest updates on their products and APIs."
      ],
      "text/plain": [
       "<IPython.core.display.Markdown object>"
      ]
     },
     "metadata": {},
     "output_type": "display_data"
    }
   ],
   "source": [
    "# Let's ask about some info about new APIs such as GPT Vision\n",
    "query = \"Tell me more about OpenAI's GPT-4 Vision API. If you don't know, just say you don't know.\"\n",
    "result = query_gpt(query, model = \"gpt-3.5-turbo\")\n",
    "display(Markdown(result))"
   ]
  },
  {
   "cell_type": "markdown",
   "metadata": {},
   "source": [
    "## New data preparation for fine-tuning\n",
    "\n",
    "### Example I: Build code assistant OpenAI Vision API\n",
    "\n",
    "As use-case, assume we want a fine-tuned GPT coding assistant for OpenAI Vision.\n",
    "To get started, we first need to create a suitable training dataset, following the steps:\n",
    "\n",
    "\n",
    "### 1. Collect Material\n",
    "\n",
    "Get high quality data and information for your topic:\n",
    "For GPT-4 Vision the following webpages have API and demonstration sample:\n",
    "- https://platform.openai.com/docs/guides/vision\n",
    "- https://cookbook.openai.com/examples/gpt_with_vision_for_video_understanding\n",
    "- https://blog.roboflow.com/gpt-4-image-classification\n",
    "\n",
    "### 2. Select and Chunk Material into relevant content and code snippets\n",
    "\n",
    "see 7 files in GPT-Vision_training_raw_material.zip\n",
    "\n",
    "Ideally you want to improve the splitting of these text and code chunks. \n",
    "\n",
    "### 3 Get familiar with training data file-format for finetuning\n",
    "\n",
    "Here we use OpenAi's finetuning API, which requires the following format for training:\n",
    "\n",
    "```python\n",
    "{\"messages\": [{\"role\": \"system\", \"content\": \"You are a helpful Python coding assistant for OpenAI GPT-4 Vision.\"}, {\"role\": \"user\", \"content\": \"What is GPT-4 with Vision?\"}, {\"role\": \"assistant\", \"content\": \"GPT-4 with Vision, also referred to as GPT-4V or gpt-4-vision-preview, is an adaptation of the model to accept images and answer questions about them.\"}]}\n",
    "\n",
    "{\"messages\": [{\"role\": \"system\", \"content\": \"You are a helpful Python coding assistant for OpenAI GPT-4 Vision.\"}, {\"role\": \"user\", \"content\": \"How can I make images available to the model?\"}, {\"role\": \"assistant\", \"content\": \"You can either pass a link to the image or the base64 encoded image directly in the request.\"}]}\n",
    "\n",
    "{\"messages\": [{\"role\": \"system\", \"content\": \"You are a helpful Python coding assistant for OpenAI GPT-4 Vision.\"}, {\"role\": \"user\", \"content\": \"How do I use GPT-4 to analyze images?\"}, {\"role\": \"assistant\", \"content\": \"To analyze images using GPT-4, you can use the `gpt-4-vision-preview` model. Here's an example code snippet:\\n```Python\\nfrom openai import OpenAI\\n\\nclient = OpenAI()\\n\\nresponse = client.chat.completions.create(\\n  model=\\\"gpt-4-vision-preview\\\",\\n  messages=[\\n    {\\n      \\\"role\\\": \\\"user\\\",\\n      \\\"content\\\": [\\n        {\\\"type\\\": \\\"text\\\", \\\"text\\\": \\\"What\\u2019s in this image?\\\"},\\n        {\\n          \\\"type\\\": \\\"image_url\\\",\\n          \\\"image_url\\\": {\\n            \\\"url\\\": \\\"https://link_to_your_image.jpg\\\",\\n          },\\n        },\\n      ],\\n    }\\n  ],\\n  max_tokens=300,\\n)\\n\\nprint(response.choices[0])\\n```\"}]}\n",
    "```\n",
    "\n",
    "### 3. Generate Question and Answer pairs for each chunk\n",
    "\n",
    "Trick: Use LLM model to automate question generation given the training material and formatting instructions.\n",
    "\n",
    "Generate for each chunk 5-10 question - answer pairs (as above)\n",
    "\n",
    "### 4. Clean generated data\n",
    "\n",
    "### 4. Split in train and test data\n",
    "\n",
    "see final files:\n",
    "- vision_trainset.json\n",
    "- vision_testset.json"
   ]
  },
  {
   "cell_type": "markdown",
   "metadata": {},
   "source": [
    "## Data Loading and Validation"
   ]
  },
  {
   "cell_type": "code",
   "execution_count": 7,
   "metadata": {},
   "outputs": [],
   "source": [
    "fname_train = \"../data/vision_trainset.json\"\n",
    "fname_val = \"../data/vision_testset.json\"\n",
    "\n",
    "# Load the train dataset\n",
    "with open(fname_train, 'r', encoding='utf-8') as f:\n",
    "    lines = f.readlines()\n",
    "dataset_train = [json.loads(line) for line in lines]\n",
    "\n",
    "# Load the val dataset\n",
    "with open(fname_val, 'r', encoding='utf-8') as f:\n",
    "    lines = f.readlines()\n",
    "dataset_val = [json.loads(line) for line in lines]"
   ]
  },
  {
   "cell_type": "code",
   "execution_count": 8,
   "metadata": {},
   "outputs": [
    {
     "name": "stdout",
     "output_type": "stream",
     "text": [
      "Num examples: 69\n",
      "First example:\n",
      "{'role': 'system', 'content': 'You are a helpful Python coding assistant for OpenAI GPT-4 Vision.'}\n",
      "{'role': 'user', 'content': \"What should I do if I want to send images for processing but don't have a specific question?\"}\n",
      "{'role': 'assistant', 'content': 'You can provide general instructions or a request for analysis without a specific question. Here\\'s an example with base64 images:\\n```python\\nresponse = client.chat.completions.create(\\n  model=\"gpt-4-vision-preview\",\\n  messages=[\\n    {\\n      \"role\": \"user\",\\n      \"content\": [\\n        {\\n          \"type\": \"text\",\\n          \"text\": \"Please analyze these images and provide insights.\",\\n        },\\n        {\\n          \"type\": \"base64\",\\n          \"base64\": \"your_base64_encoded_image_1\",\\n        },\\n        {\\n          \"type\": \"base64\",\\n          \"base64\": \"your_base64_encoded_image_2\",\\n        },\\n      ],\\n    }\\n  ]\\n  # ... additional parameters ...\\n)\\nprint(response.choices[0])\\n```\\nYou\\'d replace the base64 strings with the actual encoded data of your images.'}\n"
     ]
    }
   ],
   "source": [
    "# Initial dataset stats\n",
    "print(\"Num examples:\", len(dataset_train))\n",
    "print(\"First example:\")\n",
    "for message in dataset_train[0][\"messages\"]:\n",
    "    print(message)"
   ]
  },
  {
   "cell_type": "markdown",
   "metadata": {},
   "source": [
    "### Data validation and token/cost estimates"
   ]
  },
  {
   "cell_type": "code",
   "execution_count": 10,
   "metadata": {},
   "outputs": [],
   "source": [
    "# validation\n",
    "from collections import defaultdict\n",
    "import tiktoken\n",
    "import numpy as np\n",
    "def validate_dataset(dataset):\n",
    "    format_errors = defaultdict(int)\n",
    "\n",
    "    for ex in dataset:\n",
    "        if not isinstance(ex, dict):\n",
    "            format_errors[\"data_type\"] += 1\n",
    "            continue\n",
    "            \n",
    "        messages = ex.get(\"messages\", None)\n",
    "        if not messages:\n",
    "            format_errors[\"missing_messages_list\"] += 1\n",
    "            continue\n",
    "            \n",
    "        for message in messages:\n",
    "            if \"role\" not in message or \"content\" not in message:\n",
    "                format_errors[\"message_missing_key\"] += 1\n",
    "            \n",
    "            if any(k not in (\"role\", \"content\", \"name\", \"function_call\") for k in message):\n",
    "                format_errors[\"message_unrecognized_key\"] += 1\n",
    "            \n",
    "            if message.get(\"role\", None) not in (\"system\", \"user\", \"assistant\", \"function\"):\n",
    "                format_errors[\"unrecognized_role\"] += 1\n",
    "                \n",
    "            content = message.get(\"content\", None)\n",
    "            function_call = message.get(\"function_call\", None)\n",
    "            \n",
    "            if (not content and not function_call) or not isinstance(content, str):\n",
    "                format_errors[\"missing_content\"] += 1\n",
    "        \n",
    "        if not any(message.get(\"role\", None) == \"assistant\" for message in messages):\n",
    "            format_errors[\"example_missing_assistant_message\"] += 1\n",
    "\n",
    "    if format_errors:\n",
    "        print(\"Found errors:\")\n",
    "        for k, v in format_errors.items():\n",
    "            print(f\"{k}: {v}\")\n",
    "    else:\n",
    "        print(\"No errors found\")\n",
    "\n",
    "\n",
    "def num_tokens_from_messages(messages, tokens_per_message=3, tokens_per_name=1, encoding_name = \"cl100k_base\"):\n",
    "    encoding = tiktoken.get_encoding(encoding_name)\n",
    "    num_tokens = 0\n",
    "    for message in messages:\n",
    "        num_tokens += tokens_per_message\n",
    "        for key, value in message.items():\n",
    "            num_tokens += len(encoding.encode(value))\n",
    "            if key == \"name\":\n",
    "                num_tokens += tokens_per_name\n",
    "    num_tokens += 3\n",
    "    return num_tokens\n",
    "\n",
    "def num_assistant_tokens_from_messages(messages, encoding_name = \"cl100k_base\"):\n",
    "    encoding = tiktoken.get_encoding(encoding_name)\n",
    "    num_tokens = 0\n",
    "    for message in messages:\n",
    "        if message[\"role\"] == \"assistant\":\n",
    "            num_tokens += len(encoding.encode(message[\"content\"]))\n",
    "    return num_tokens\n",
    "\n",
    "def print_distribution(values, name):\n",
    "    print(f\"\\n#### Distribution of {name}:\")\n",
    "    print(f\"min / max: {min(values)}, {max(values)}\")\n",
    "    print(f\"mean / median: {np.mean(values)}, {np.median(values)}\")\n",
    "    print(f\"p5 / p95: {np.quantile(values, 0.1)}, {np.quantile(values, 0.9)}\")"
   ]
  },
  {
   "cell_type": "code",
   "execution_count": 11,
   "metadata": {},
   "outputs": [
    {
     "name": "stdout",
     "output_type": "stream",
     "text": [
      "No errors found\n"
     ]
    }
   ],
   "source": [
    "validate_dataset(dataset_train)"
   ]
  },
  {
   "cell_type": "code",
   "execution_count": 12,
   "metadata": {},
   "outputs": [
    {
     "name": "stdout",
     "output_type": "stream",
     "text": [
      "No errors found\n"
     ]
    }
   ],
   "source": [
    "validate_dataset(dataset_val)"
   ]
  },
  {
   "cell_type": "code",
   "execution_count": 13,
   "metadata": {},
   "outputs": [
    {
     "name": "stdout",
     "output_type": "stream",
     "text": [
      "Num examples missing system message: 0\n",
      "Num examples missing user message: 0\n",
      "\n",
      "#### Distribution of num_messages_per_example:\n",
      "min / max: 3, 3\n",
      "mean / median: 3.0, 3.0\n",
      "p5 / p95: 3.0, 3.0\n",
      "\n",
      "#### Distribution of num_total_tokens_per_example:\n",
      "min / max: 58, 299\n",
      "mean / median: 121.6086956521739, 95.0\n",
      "p5 / p95: 67.6, 199.8\n",
      "\n",
      "#### Distribution of num_assistant_tokens_per_example:\n",
      "min / max: 16, 249\n",
      "mean / median: 77.42028985507247, 51.0\n",
      "p5 / p95: 23.8, 156.60000000000002\n",
      "\n",
      "0 examples may be over the 4096 token limit, they will be truncated during fine-tuning\n"
     ]
    }
   ],
   "source": [
    "# Check token limits    \n",
    "# Warnings and tokens counts\n",
    "n_missing_system = 0\n",
    "n_missing_user = 0\n",
    "n_messages = []\n",
    "convo_lens = []\n",
    "assistant_message_lens = []\n",
    "encoding = tiktoken.get_encoding(\"cl100k_base\")\n",
    "\n",
    "for ex in dataset_train:\n",
    "    messages = ex[\"messages\"]\n",
    "    if not any(message[\"role\"] == \"system\" for message in messages):\n",
    "        n_missing_system += 1\n",
    "    if not any(message[\"role\"] == \"user\" for message in messages):\n",
    "        n_missing_user += 1\n",
    "    n_messages.append(len(messages))\n",
    "    convo_lens.append(num_tokens_from_messages(messages))\n",
    "    assistant_message_lens.append(num_assistant_tokens_from_messages(messages))\n",
    "    \n",
    "print(\"Num examples missing system message:\", n_missing_system)\n",
    "print(\"Num examples missing user message:\", n_missing_user)\n",
    "print_distribution(n_messages, \"num_messages_per_example\")\n",
    "print_distribution(convo_lens, \"num_total_tokens_per_example\")\n",
    "print_distribution(assistant_message_lens, \"num_assistant_tokens_per_example\")\n",
    "n_too_long = sum(l > 4096 for l in convo_lens)\n",
    "print(f\"\\n{n_too_long} examples may be over the 4096 token limit, they will be truncated during fine-tuning\")"
   ]
  },
  {
   "cell_type": "markdown",
   "metadata": {},
   "source": [
    "### Cost Estimation"
   ]
  },
  {
   "cell_type": "code",
   "execution_count": 15,
   "metadata": {},
   "outputs": [
    {
     "name": "stdout",
     "output_type": "stream",
     "text": [
      "Dataset has ~8391 tokens that will be charged for during training\n",
      "By default, you'll train for 3 epochs on this dataset\n",
      "By default, you'll be charged for ~25173 tokens\n",
      "Estimated cost for training is 0.2 USD.\n"
     ]
    }
   ],
   "source": [
    "# Pricing and default n_epochs estimate\n",
    "MAX_TOKENS_PER_EXAMPLE = 4096\n",
    "\n",
    "n_epochs = 3\n",
    "cost_per_token = 0.008/1000 # For GPT-3.5-turbo\n",
    "\n",
    "n_billing_tokens_in_dataset = sum(min(MAX_TOKENS_PER_EXAMPLE, length) for length in convo_lens)\n",
    "print(f\"Dataset has ~{n_billing_tokens_in_dataset} tokens that will be charged for during training\")\n",
    "print(f\"By default, you'll train for {n_epochs} epochs on this dataset\")\n",
    "print(f\"By default, you'll be charged for ~{n_epochs * n_billing_tokens_in_dataset} tokens\")\n",
    "cost = cost_per_token * n_epochs * n_billing_tokens_in_dataset\n",
    "print(f'Estimated cost for training is {round(cost,2)} USD.')"
   ]
  },
  {
   "cell_type": "markdown",
   "metadata": {},
   "source": [
    "## Fine-Tune model"
   ]
  },
  {
   "cell_type": "code",
   "execution_count": 16,
   "metadata": {},
   "outputs": [],
   "source": [
    "# Upload Training file for processing\n",
    "\n",
    "response_train = client.files.create(\n",
    "  file=open(fname_train, \"rb\"),\n",
    "  purpose=\"fine-tune\"\n",
    ")\n",
    "train_id = response_train.id"
   ]
  },
  {
   "cell_type": "code",
   "execution_count": 17,
   "metadata": {},
   "outputs": [],
   "source": [
    "response_val = client.files.create(\n",
    "  file=open(fname_val, \"rb\"),\n",
    "  purpose=\"fine-tune\"\n",
    ")\n",
    "val_id = response_val.id"
   ]
  },
  {
   "cell_type": "code",
   "execution_count": 18,
   "metadata": {},
   "outputs": [
    {
     "name": "stdout",
     "output_type": "stream",
     "text": [
      "FineTuningJob(id='ftjob-BI9nh1OkLNSf0cHms94mFgQO', created_at=1700372433, error=None, fine_tuned_model=None, finished_at=None, hyperparameters=Hyperparameters(n_epochs=3, batch_size='auto', learning_rate_multiplier='auto'), model='gpt-3.5-turbo-0613', object='fine_tuning.job', organization_id='org-vy6zLxkP3VBC5Lnu2GMLswhj', result_files=[], status='validating_files', trained_tokens=None, training_file='file-jTx8o8YLDnckv0zbioUkS3Z5', validation_file='file-pVQqHF0WS6TLHt19cbasuBhH')\n"
     ]
    }
   ],
   "source": [
    "# Create a fine-tuned mode\n",
    "job = client.fine_tuning.jobs.create(\n",
    "  training_file=train_id, \n",
    "  validation_file=val_id,\n",
    "  model=\"gpt-3.5-turbo\",\n",
    "  hyperparameters={\"n_epochs\": 3}\n",
    ")\n",
    "job_id = job.id\n",
    "print(job)\n"
   ]
  },
  {
   "cell_type": "code",
   "execution_count": null,
   "metadata": {},
   "outputs": [],
   "source": [
    "# if job needs to be cancelled:\n",
    "#client.fine_tuning.jobs.cancel(job_id)"
   ]
  },
  {
   "cell_type": "code",
   "execution_count": 22,
   "metadata": {},
   "outputs": [
    {
     "name": "stdout",
     "output_type": "stream",
     "text": [
      "Model is ready for use!\n",
      "Model name: ft:gpt-3.5-turbo-0613:sydney-informatics-hub::8MUvoEi0\n",
      "Model runtime: 374 seconds\n",
      "Model trained tokens: 24759\n",
      "Model hyperparameters: Hyperparameters(n_epochs=3, batch_size=1, learning_rate_multiplier=2)\n",
      "Model result files: ['file-kPIE1rDI9L0SxKbKNmndVPnk']\n"
     ]
    }
   ],
   "source": [
    "# Check status. Note: you will also receive email notification when the job is done\n",
    "status = client.fine_tuning.jobs.retrieve(job_id)\n",
    "if status.status == \"succeeded\":\n",
    "    print(\"Model is ready for use!\")\n",
    "    model_id = status.id\n",
    "    model_runtime = status.finished_at - status.created_at\n",
    "    model_trained_tokens = status.trained_tokens\n",
    "    model_hyperparams = status.hyperparameters\n",
    "    model_name = status.fine_tuned_model\n",
    "    model_result_files = status.result_files\n",
    "    print(f\"Model name: {model_name}\")\n",
    "    print(f\"Model runtime: {model_runtime} seconds\")\n",
    "    print(f\"Model trained tokens: {model_trained_tokens}\")\n",
    "    print(f\"Model hyperparameters: {model_hyperparams}\")\n",
    "    print(f\"Model result files: {model_result_files}\")\n",
    "elif status.status == \"running\":\n",
    "    print(\"Model is not ready yet, try again later\")\n",
    "else:\n",
    "    print('status:', status.status)"
   ]
  },
  {
   "cell_type": "markdown",
   "metadata": {},
   "source": [
    "### Receive email notification like:\n",
    "\n",
    "Hi Sydney Informatics Hub,\n",
    "\n",
    "Your fine-tuning job ftjob-BI9nh1OkLNSf0cHms94mFgQO has successfully completed, and a new model ft:gpt-3.5-turbo-0613:sydney-informatics-hub::8MUvoEi0 has been created for your use.\n",
    "\n",
    "Try it out on the [OpenAI Playground](https://platform.openai.com/playground?mode=chat&model=ft:gpt-3.5-turbo-0613:sydney-informatics-hub::8MUvoEi0), view the training results in the [fine-tuning UI](https://platform.openai.com/finetune/ftjob-BI9nh1OkLNSf0cHms94mFgQO), or integrate it into your application using the Chat Completions or Legacy Completions API.\n",
    "\n",
    "Thank you for building on the OpenAI platform,\n",
    "\n",
    "The OpenAI team\n"
   ]
  },
  {
   "cell_type": "markdown",
   "metadata": {},
   "source": [
    "### Test Fine-tuned model"
   ]
  },
  {
   "cell_type": "code",
   "execution_count": 40,
   "metadata": {},
   "outputs": [
    {
     "name": "stdout",
     "output_type": "stream",
     "text": [
      "Query: Will GPT-4 perform worse on text tasks if it's analyzing images?\n",
      "Query: Can you show me how to encode an image for the OpenAI model?\n",
      "Query: Which GPT-4 model should I use for image processing tasks?\n",
      "Query: What are the limitations I should be aware of when using GPT-4 with Vision?\n",
      "Query: Has there been something done to prevent CAPTCHA submissions?\n",
      "Query: What's the purpose of resizing images before passing them to GPT?\n",
      "Query: What if my uploaded image is not clear?\n",
      "Query: How can I read frames from a video using Python?\n",
      "Query: How can I delete an image after uploading it?\n",
      "Query: Will GPT-4 perform worse on text tasks if it's analyzing images?\n",
      "Query: What do I do if I have extracted too many frames from a video and I want to reduce them before sending them to GPT?\n",
      "Query: How can I provide images to the model?\n",
      "Query: What's the code to send an image to GPT-4 for interpretation?\n",
      "Query: Is it possible to use base64 images instead of URLs with the Chat Completions API?\n",
      "Query: What can GPT-4 with vision do?\n",
      "Query: Can I pass images in the first system message?\n",
      "Query: How do I use GPT-4 to analyze images?\n",
      "Query: Can it identify colors in images?\n"
     ]
    }
   ],
   "source": [
    "# get example queries\n",
    "for i in range(len(dataset_val)):\n",
    "    query = dataset_val[i][\"messages\"][1][\"content\"]\n",
    "    print(\"Query:\", query)"
   ]
  },
  {
   "cell_type": "code",
   "execution_count": 41,
   "metadata": {},
   "outputs": [
    {
     "data": {
      "text/markdown": [
       "GPT-4 with vision is a powerful model that can understand and answer questions about images. It can also generate detailed descriptions of images and provide explanations for its answers."
      ],
      "text/plain": [
       "<IPython.core.display.Markdown object>"
      ]
     },
     "metadata": {},
     "output_type": "display_data"
    }
   ],
   "source": [
    "query = \"What can GPT-4 vision do?\"\n",
    "#query: \"What are the limitations I should be aware of when using GPT-4 with Vision?\"\n",
    "#query = \"How can I provide images for GPT-4 Vision?\"\n",
    "#query = \"How can I read frames from a video using Python?\"\n",
    "system = \"You are a helpful Python coding assistant for OpenAI GPT-4 Vision.\"\n",
    "model_name = 'ft:gpt-3.5-turbo-0613:sydney-informatics-hub::8MUvoEi0'\n",
    "result = query_gpt(query, model=model_name, system_str = system, temperature =0, max_tokens=1000)\n",
    "# print result as markdown\n",
    "display(Markdown(result))\n"
   ]
  },
  {
   "cell_type": "code",
   "execution_count": 44,
   "metadata": {},
   "outputs": [
    {
     "data": {
      "text/markdown": [
       "To send an image to GPT-4 for interpretation, you can use the following code:\n",
       "```python\n",
       "response = client.chat.completions.create(\n",
       "  model=\"gpt-4-vision-preview\",\n",
       "  messages=[\n",
       "    {\n",
       "      \"role\": \"user\",\n",
       "      \"content\": [\n",
       "        {\n",
       "          \"type\": \"image_url\",\n",
       "          \"image_url\": {\n",
       "            \"url\": \"https://example.com/your-image.jpg\"\n",
       "          }\n",
       "        }\n",
       "      ]\n",
       "    }\n",
       "  ]\n",
       ")\n",
       "print(response)\n",
       "```\n",
       "Replace `\"https://example.com/your-image.jpg\"` with the URL of your image."
      ],
      "text/plain": [
       "<IPython.core.display.Markdown object>"
      ]
     },
     "metadata": {},
     "output_type": "display_data"
    }
   ],
   "source": [
    "query = \"what's the the code to send an image to GPT-4 for interpretation?\"\n",
    "result = query_gpt(query, model=model_name, system_str = system, temperature =0, max_tokens=1000)\n",
    "# print result as markdown\n",
    "display(Markdown(result))"
   ]
  },
  {
   "cell_type": "markdown",
   "metadata": {},
   "source": [
    "### Test Provided Code"
   ]
  },
  {
   "cell_type": "markdown",
   "metadata": {},
   "source": [
    "check example images. e.g.: at https://informatics.sydney.edu.au/news/"
   ]
  },
  {
   "cell_type": "code",
   "execution_count": 205,
   "metadata": {},
   "outputs": [
    {
     "data": {
      "text/html": [
       "<img src=\"https://informatics.sydney.edu.au/images/CodingChallengeImages/innov_award.JPG\"/>"
      ],
      "text/plain": [
       "<IPython.core.display.Image object>"
      ]
     },
     "execution_count": 205,
     "metadata": {},
     "output_type": "execute_result"
    }
   ],
   "source": [
    "url = \"https://informatics.sydney.edu.au/images/CodingChallengeImages/innov_award.JPG\"\n",
    "# show image at url\n",
    "from IPython.display import Image\n",
    "Image(url=url)"
   ]
  },
  {
   "cell_type": "code",
   "execution_count": 216,
   "metadata": {},
   "outputs": [
    {
     "name": "stdout",
     "output_type": "stream",
     "text": [
      "ChatCompletion(id='chatcmpl-8MQzwErOA3GFEI7rk8itv4nagz7PI', choices=[Choice(finish_reason=None, index=0, message=ChatCompletionMessage(content='This image depicts a group of five people standing in front of a backdrop that features logos of the University of Sydney and an Innovation Hub. Each person is holding what appears to be an award or trophy. They are dressed in a business or semi-formal attire. The context suggests that they might be at an event where awards or recognitions have been distributed, possibly related to academic, professional, or innovation achievements. The backdrop and logos indicate this event is associated with the University of Sydney.', role='assistant', function_call=None, tool_calls=None), finish_details={'type': 'stop', 'stop': '<|fim_suffix|>'})], created=1700357688, model='gpt-4-1106-vision-preview', object='chat.completion', system_fingerprint=None, usage=CompletionUsage(completion_tokens=97, prompt_tokens=780, total_tokens=877))\n"
     ]
    }
   ],
   "source": [
    "response = client.chat.completions.create(\n",
    "  model=\"gpt-4-vision-preview\",\n",
    "  messages=[\n",
    "    {\n",
    "      \"role\": \"user\",\n",
    "      \"content\": [\n",
    "        {\n",
    "          \"type\": \"text\",\n",
    "          \"text\": \"What do you see in this image?\",\n",
    "        },\n",
    "        {\n",
    "          \"type\": \"image_url\",\n",
    "          \"image_url\": {\n",
    "            \"url\": url,\n",
    "          },\n",
    "        },\n",
    "      ],\n",
    "    }\n",
    "  ],\n",
    "  max_tokens=200,\n",
    ")\n",
    "print(response)"
   ]
  },
  {
   "cell_type": "code",
   "execution_count": 217,
   "metadata": {},
   "outputs": [
    {
     "data": {
      "text/markdown": [
       "This image depicts a group of five people standing in front of a backdrop that features logos of the University of Sydney and an Innovation Hub. Each person is holding what appears to be an award or trophy. They are dressed in a business or semi-formal attire. The context suggests that they might be at an event where awards or recognitions have been distributed, possibly related to academic, professional, or innovation achievements. The backdrop and logos indicate this event is associated with the University of Sydney."
      ],
      "text/plain": [
       "<IPython.core.display.Markdown object>"
      ]
     },
     "metadata": {},
     "output_type": "display_data"
    }
   ],
   "source": [
    "display(Markdown(response.choices[0].message.content))"
   ]
  },
  {
   "cell_type": "markdown",
   "metadata": {},
   "source": [
    "## Validate Model\n",
    "\n",
    "for this we can use OpenAI's eval library: https://github.com/openai/evals"
   ]
  },
  {
   "cell_type": "code",
   "execution_count": 45,
   "metadata": {},
   "outputs": [],
   "source": [
    "result_file_content = client.files.retrieve(model_result_files[0])"
   ]
  },
  {
   "cell_type": "code",
   "execution_count": 46,
   "metadata": {},
   "outputs": [
    {
     "name": "stdout",
     "output_type": "stream",
     "text": [
      "FileObject(id='file-kPIE1rDI9L0SxKbKNmndVPnk', bytes=4691, created_at=1700372810, filename='step_metrics.csv', object='file', purpose='fine-tune-results', status='processed', status_details=None)\n"
     ]
    }
   ],
   "source": [
    "print(result_file_content)\n",
    "result_filename = result_file_content.filename"
   ]
  },
  {
   "cell_type": "code",
   "execution_count": 48,
   "metadata": {},
   "outputs": [
    {
     "name": "stdout",
     "output_type": "stream",
     "text": [
      "Downloaded result file to step_metrics.csv\n"
     ]
    }
   ],
   "source": [
    "# download file\n",
    "# from: https://api.openai.com/v1/files/{file_id}/content\n",
    "url = f\"https://api.openai.com/v1/files/{result_file_content.id}/content\"\n",
    "r = requests.get(url, headers={\"Authorization\": f\"Bearer {openai.api_key}\"})\n",
    "if r.status_code == 200:\n",
    "    with open(result_filename, \"wb\") as f:\n",
    "        f.write(r.content)\n",
    "    print(f\"Downloaded result file to {result_filename}\")"
   ]
  },
  {
   "cell_type": "code",
   "execution_count": 49,
   "metadata": {},
   "outputs": [
    {
     "data": {
      "text/markdown": [
       "|     |   step |   train_loss |   train_accuracy |   valid_loss |   valid_mean_token_accuracy |\n",
       "|----:|-------:|-------------:|-----------------:|-------------:|----------------------------:|\n",
       "|   0 |      1 |      2.14106 |          0.65269 |      2.61467 |                     0.58333 |\n",
       "|   1 |      2 |      2.75379 |          0.62264 |    nan       |                   nan       |\n",
       "|   2 |      3 |      2.23217 |          0.58824 |    nan       |                   nan       |\n",
       "|   3 |      4 |      4.55579 |          0.2     |    nan       |                   nan       |\n",
       "|   4 |      5 |      3.44249 |          0.48649 |    nan       |                   nan       |\n",
       "|   5 |      6 |      3.28448 |          0.44737 |    nan       |                   nan       |\n",
       "|   6 |      7 |      1.43298 |          0.67857 |    nan       |                   nan       |\n",
       "|   7 |      8 |      2.93348 |          0.36364 |    nan       |                   nan       |\n",
       "|   8 |      9 |      1.46233 |          0.73846 |    nan       |                   nan       |\n",
       "|   9 |     10 |      2.53728 |          0.5     |    nan       |                   nan       |\n",
       "|  10 |     11 |      1.66223 |          0.65789 |      1.10369 |                     0.72857 |\n",
       "|  11 |     12 |      2.62054 |          0.61905 |    nan       |                   nan       |\n",
       "|  12 |     13 |      1.18391 |          0.72222 |    nan       |                   nan       |\n",
       "|  13 |     14 |      1.63201 |          0.66337 |    nan       |                   nan       |\n",
       "|  14 |     15 |      1.64485 |          0.67626 |    nan       |                   nan       |\n",
       "|  15 |     16 |      3.31477 |          0.46667 |    nan       |                   nan       |\n",
       "|  16 |     17 |      1.64589 |          0.63725 |    nan       |                   nan       |\n",
       "|  17 |     18 |      3.58241 |          0.40351 |    nan       |                   nan       |\n",
       "|  18 |     19 |      1.7639  |          0.61458 |    nan       |                   nan       |\n",
       "|  19 |     20 |      1.05281 |          0.74302 |    nan       |                   nan       |\n",
       "|  20 |     21 |      2.79844 |          0.51852 |      1.43081 |                     0.61111 |\n",
       "|  21 |     22 |      2.10163 |          0.5     |    nan       |                   nan       |\n",
       "|  22 |     23 |      0.95713 |          0.74658 |    nan       |                   nan       |\n",
       "|  23 |     24 |      2.6492  |          0.48936 |    nan       |                   nan       |\n",
       "|  24 |     25 |      1.06884 |          0.70667 |    nan       |                   nan       |\n",
       "|  25 |     26 |      1.93281 |          0.39286 |    nan       |                   nan       |\n",
       "|  26 |     27 |      3.46086 |          0.41304 |    nan       |                   nan       |\n",
       "|  27 |     28 |      1.83395 |          0.55556 |    nan       |                   nan       |\n",
       "|  28 |     29 |      3.68949 |          0.27586 |    nan       |                   nan       |\n",
       "|  29 |     30 |      0.89407 |          0.75    |    nan       |                   nan       |\n",
       "|  30 |     31 |      0.84404 |          0.73438 |      2.75957 |                     0.37288 |\n",
       "|  31 |     32 |      2.60827 |          0.5     |    nan       |                   nan       |\n",
       "|  32 |     33 |      2.53993 |          0.54054 |    nan       |                   nan       |\n",
       "|  33 |     34 |      1.19018 |          0.61905 |    nan       |                   nan       |\n",
       "|  34 |     35 |      2.01418 |          0.56604 |    nan       |                   nan       |\n",
       "|  35 |     36 |      1.90365 |          0.64    |    nan       |                   nan       |\n",
       "|  36 |     37 |      1.30696 |          0.68421 |    nan       |                   nan       |\n",
       "|  37 |     38 |      1.46234 |          0.59756 |    nan       |                   nan       |\n",
       "|  38 |     39 |      1.2174  |          0.61468 |    nan       |                   nan       |\n",
       "|  39 |     40 |      2.07531 |          0.47619 |    nan       |                   nan       |\n",
       "|  40 |     41 |      1.73062 |          0.56667 |      1.61781 |                     0.5     |\n",
       "|  41 |     42 |      2.00451 |          0.6     |    nan       |                   nan       |\n",
       "|  42 |     43 |      1.36196 |          0.57692 |    nan       |                   nan       |\n",
       "|  43 |     44 |      1.19331 |          0.67123 |    nan       |                   nan       |\n",
       "|  44 |     45 |      0.83362 |          0.75839 |    nan       |                   nan       |\n",
       "|  45 |     46 |      1.78503 |          0.52941 |    nan       |                   nan       |\n",
       "|  46 |     47 |      1.61285 |          0.65517 |    nan       |                   nan       |\n",
       "|  47 |     48 |      2.21033 |          0.42553 |    nan       |                   nan       |\n",
       "|  48 |     49 |      0.77439 |          0.71429 |    nan       |                   nan       |\n",
       "|  49 |     50 |      1.19602 |          0.76923 |    nan       |                   nan       |\n",
       "|  50 |     51 |      1.06379 |          0.73684 |      1.97985 |                     0.56204 |\n",
       "|  51 |     52 |      1.41524 |          0.5625  |    nan       |                   nan       |\n",
       "|  52 |     53 |      1.61878 |          0.54902 |    nan       |                   nan       |\n",
       "|  53 |     54 |      0.69727 |          0.8     |    nan       |                   nan       |\n",
       "|  54 |     55 |      0.58681 |          0.84545 |    nan       |                   nan       |\n",
       "|  55 |     56 |      1.45075 |          0.63    |    nan       |                   nan       |\n",
       "|  56 |     57 |      0.617   |          0.83333 |    nan       |                   nan       |\n",
       "|  57 |     58 |      0.76103 |          0.78788 |    nan       |                   nan       |\n",
       "|  58 |     59 |      0.47551 |          0.85514 |    nan       |                   nan       |\n",
       "|  59 |     60 |      0.54505 |          0.84076 |    nan       |                   nan       |\n",
       "|  60 |     61 |      1.05763 |          0.69444 |      2.06674 |                     0.53125 |\n",
       "|  61 |     62 |      1.78996 |          0.62222 |    nan       |                   nan       |\n",
       "|  62 |     63 |      1.071   |          0.70916 |    nan       |                   nan       |\n",
       "|  63 |     64 |      1.72374 |          0.62222 |    nan       |                   nan       |\n",
       "|  64 |     65 |      2.99783 |          0.36957 |    nan       |                   nan       |\n",
       "|  65 |     66 |      1.08338 |          0.72414 |    nan       |                   nan       |\n",
       "|  66 |     67 |      1.38802 |          0.69048 |    nan       |                   nan       |\n",
       "|  67 |     68 |      1.33778 |          0.71429 |    nan       |                   nan       |\n",
       "|  68 |     69 |      1.5991  |          0.59677 |    nan       |                   nan       |\n",
       "|  69 |     70 |      1.3914  |          0.69655 |    nan       |                   nan       |\n",
       "|  70 |     71 |      1.25202 |          0.72727 |      0.59096 |                     0.78862 |\n",
       "|  71 |     72 |      2.14181 |          0.57447 |    nan       |                   nan       |\n",
       "|  72 |     73 |      2.9939  |          0.42105 |    nan       |                   nan       |\n",
       "|  73 |     74 |      1.28162 |          0.62745 |    nan       |                   nan       |\n",
       "|  74 |     75 |      2.18615 |          0.51351 |    nan       |                   nan       |\n",
       "|  75 |     76 |      0.45623 |          0.87879 |    nan       |                   nan       |\n",
       "|  76 |     77 |      0.53683 |          0.82143 |    nan       |                   nan       |\n",
       "|  77 |     78 |      1.11667 |          0.70297 |    nan       |                   nan       |\n",
       "|  78 |     79 |      1.30074 |          0.71429 |    nan       |                   nan       |\n",
       "|  79 |     80 |      1.44236 |          0.66667 |    nan       |                   nan       |\n",
       "|  80 |     81 |      3.22401 |          0.34483 |      2.75934 |                     0.30435 |\n",
       "|  81 |     82 |      0.39114 |          0.90909 |    nan       |                   nan       |\n",
       "|  82 |     83 |      0.78796 |          0.78947 |    nan       |                   nan       |\n",
       "|  83 |     84 |      1.69141 |          0.38095 |    nan       |                   nan       |\n",
       "|  84 |     85 |      0.63676 |          0.85385 |    nan       |                   nan       |\n",
       "|  85 |     86 |      0.35827 |          0.89809 |    nan       |                   nan       |\n",
       "|  86 |     87 |      0.89056 |          0.72414 |    nan       |                   nan       |\n",
       "|  87 |     88 |      1.40567 |          0.63158 |    nan       |                   nan       |\n",
       "|  88 |     89 |      0.76868 |          0.78947 |    nan       |                   nan       |\n",
       "|  89 |     90 |      0.59958 |          0.82812 |    nan       |                   nan       |\n",
       "|  90 |     91 |      0.54402 |          0.86    |      1.19806 |                     0.63889 |\n",
       "|  91 |     92 |      1.4765  |          0.42857 |    nan       |                   nan       |\n",
       "|  92 |     93 |      0.59218 |          0.83448 |    nan       |                   nan       |\n",
       "|  93 |     94 |      1.25538 |          0.66    |    nan       |                   nan       |\n",
       "|  94 |     95 |      1.94869 |          0.5     |    nan       |                   nan       |\n",
       "|  95 |     96 |      1.27404 |          0.68862 |    nan       |                   nan       |\n",
       "|  96 |     97 |      2.08029 |          0.5     |    nan       |                   nan       |\n",
       "|  97 |     98 |      0.44133 |          0.94444 |    nan       |                   nan       |\n",
       "|  98 |     99 |      0.89598 |          0.76923 |    nan       |                   nan       |\n",
       "|  99 |    100 |      0.54756 |          0.83221 |    nan       |                   nan       |\n",
       "| 100 |    101 |      1.29035 |          0.73529 |      1.59586 |                     0.60448 |\n",
       "| 101 |    102 |      1.11518 |          0.60417 |    nan       |                   nan       |\n",
       "| 102 |    103 |      1.85359 |          0.46809 |    nan       |                   nan       |\n",
       "| 103 |    104 |      1.61217 |          0.68    |    nan       |                   nan       |\n",
       "| 104 |    105 |      1.12547 |          0.71942 |    nan       |                   nan       |\n",
       "| 105 |    106 |      0.56754 |          0.8303  |    nan       |                   nan       |\n",
       "| 106 |    107 |      1.83147 |          0.54054 |    nan       |                   nan       |\n",
       "| 107 |    108 |      0.51959 |          0.83562 |    nan       |                   nan       |\n",
       "| 108 |    109 |      1.50413 |          0.68333 |    nan       |                   nan       |\n",
       "| 109 |    110 |      0.83531 |          0.75    |    nan       |                   nan       |\n",
       "| 110 |    111 |      1.87597 |          0.59259 |      1.15068 |                     0.61765 |\n",
       "| 111 |    112 |      0.61547 |          0.86842 |    nan       |                   nan       |\n",
       "| 112 |    113 |      0.78247 |          0.79817 |    nan       |                   nan       |\n",
       "| 113 |    114 |      0.89808 |          0.69231 |    nan       |                   nan       |\n",
       "| 114 |    115 |      1.38921 |          0.64151 |    nan       |                   nan       |\n",
       "| 115 |    116 |      1.10064 |          0.66667 |    nan       |                   nan       |\n",
       "| 116 |    117 |      0.91623 |          0.72603 |    nan       |                   nan       |\n",
       "| 117 |    118 |      0.68943 |          0.77381 |    nan       |                   nan       |\n",
       "| 118 |    119 |      0.44683 |          0.84459 |    nan       |                   nan       |\n",
       "| 119 |    120 |      1.20555 |          0.66667 |    nan       |                   nan       |\n",
       "| 120 |    121 |      0.96578 |          0.73307 |      0.46735 |                     0.82667 |\n",
       "| 121 |    122 |      0.80538 |          0.7381  |    nan       |                   nan       |\n",
       "| 122 |    123 |      1.70485 |          0.58333 |    nan       |                   nan       |\n",
       "| 123 |    124 |      1.18656 |          0.69792 |    nan       |                   nan       |\n",
       "| 124 |    125 |      2.65366 |          0.5     |    nan       |                   nan       |\n",
       "| 125 |    126 |      1.40432 |          0.68    |    nan       |                   nan       |\n",
       "| 126 |    127 |      1.37822 |          0.61111 |    nan       |                   nan       |\n",
       "| 127 |    128 |      1.81215 |          0.61321 |    nan       |                   nan       |\n",
       "| 128 |    129 |      0.89031 |          0.76471 |    nan       |                   nan       |\n",
       "| 129 |    130 |      2.23263 |          0.53333 |    nan       |                   nan       |\n",
       "| 130 |    131 |      2.55825 |          0.5     |      0.41179 |                     0.82723 |\n",
       "| 131 |    132 |      1.01299 |          0.7451  |    nan       |                   nan       |\n",
       "| 132 |    133 |      0.29613 |          0.91589 |    nan       |                   nan       |\n",
       "| 133 |    134 |      0.84227 |          0.76471 |    nan       |                   nan       |\n",
       "| 134 |    135 |      1.08313 |          0.73171 |    nan       |                   nan       |\n",
       "| 135 |    136 |      1.42344 |          0.59677 |    nan       |                   nan       |\n",
       "| 136 |    137 |      1.134   |          0.73016 |    nan       |                   nan       |\n",
       "| 137 |    138 |      0.51667 |          0.84916 |    nan       |                   nan       |\n",
       "| 138 |    139 |      1.20231 |          0.72414 |    nan       |                   nan       |\n",
       "| 139 |    140 |      0.50576 |          0.84916 |    nan       |                   nan       |\n",
       "| 140 |    141 |      2.01669 |          0.56667 |      1.2243  |                     0.55556 |\n",
       "| 141 |    142 |      0.99879 |          0.79412 |    nan       |                   nan       |\n",
       "| 142 |    143 |      1.12536 |          0.64151 |    nan       |                   nan       |\n",
       "| 143 |    144 |      0.90946 |          0.75697 |    nan       |                   nan       |\n",
       "| 144 |    145 |      0.61202 |          0.82569 |    nan       |                   nan       |\n",
       "| 145 |    146 |      1.046   |          0.68293 |    nan       |                   nan       |\n",
       "| 146 |    147 |      2.28766 |          0.56522 |    nan       |                   nan       |\n",
       "| 147 |    148 |      1.32489 |          0.66667 |    nan       |                   nan       |\n",
       "| 148 |    149 |      0.72402 |          0.79412 |    nan       |                   nan       |\n",
       "| 149 |    150 |      0.89615 |          0.72277 |    nan       |                   nan       |\n",
       "| 150 |    151 |      1.83536 |          0.56757 |      1.0242  |                     0.66667 |\n",
       "| 151 |    152 |      0.63832 |          0.7931  |    nan       |                   nan       |\n",
       "| 152 |    153 |      1.59805 |          0.48936 |    nan       |                   nan       |\n",
       "| 153 |    154 |      0.86346 |          0.65385 |    nan       |                   nan       |\n",
       "| 154 |    155 |      2.15503 |          0.58696 |    nan       |                   nan       |\n",
       "| 155 |    156 |      0.98586 |          0.73333 |    nan       |                   nan       |\n",
       "| 156 |    157 |      1.56773 |          0.58333 |    nan       |                   nan       |\n",
       "| 157 |    158 |      0.35956 |          0.96429 |    nan       |                   nan       |\n",
       "| 158 |    159 |      0.64194 |          0.80702 |    nan       |                   nan       |\n",
       "| 159 |    160 |      0.25606 |          0.93458 |    nan       |                   nan       |\n",
       "| 160 |    161 |      1.06503 |          0.7     |      0.27049 |                     0.84713 |\n",
       "| 161 |    162 |      0.8812  |          0.76471 |    nan       |                   nan       |\n",
       "| 162 |    163 |      0.63099 |          0.80556 |    nan       |                   nan       |\n",
       "| 163 |    164 |      1.10753 |          0.68421 |    nan       |                   nan       |\n",
       "| 164 |    165 |      0.85893 |          0.76471 |    nan       |                   nan       |\n",
       "| 165 |    166 |      0.65076 |          0.82051 |    nan       |                   nan       |\n",
       "| 166 |    167 |      0.26665 |          0.91083 |    nan       |                   nan       |\n",
       "| 167 |    168 |      0.91803 |          0.73333 |    nan       |                   nan       |\n",
       "| 168 |    169 |      1.09595 |          0.73438 |    nan       |                   nan       |\n",
       "| 169 |    170 |      0.29751 |          0.90909 |    nan       |                   nan       |\n",
       "| 170 |    171 |      0.33611 |          0.89189 |      1.36923 |                     0.56522 |\n",
       "| 171 |    172 |      1.56998 |          0.62963 |    nan       |                   nan       |\n",
       "| 172 |    173 |      1.42012 |          0.68    |    nan       |                   nan       |\n",
       "| 173 |    174 |      0.51283 |          0.82759 |    nan       |                   nan       |\n",
       "| 174 |    175 |      0.45631 |          0.87273 |    nan       |                   nan       |\n",
       "| 175 |    176 |      1.70191 |          0.6     |    nan       |                   nan       |\n",
       "| 176 |    177 |      1.15002 |          0.71429 |    nan       |                   nan       |\n",
       "| 177 |    178 |      0.44973 |          0.88356 |    nan       |                   nan       |\n",
       "| 178 |    179 |      0.45327 |          0.92105 |    nan       |                   nan       |\n",
       "| 179 |    180 |      1.75757 |          0.61321 |    nan       |                   nan       |\n",
       "| 180 |    181 |      1.02564 |          0.77273 |      1.11016 |                     0.63889 |\n",
       "| 181 |    182 |      1.72562 |          0.61702 |    nan       |                   nan       |\n",
       "| 182 |    183 |      0.49011 |          0.86154 |    nan       |                   nan       |\n",
       "| 183 |    184 |      0.44135 |          0.86667 |    nan       |                   nan       |\n",
       "| 184 |    185 |      1.31678 |          0.61905 |    nan       |                   nan       |\n",
       "| 185 |    186 |      1.10066 |          0.8     |    nan       |                   nan       |\n",
       "| 186 |    187 |      0.9765  |          0.71429 |    nan       |                   nan       |\n",
       "| 187 |    188 |      1.03924 |          0.73016 |    nan       |                   nan       |\n",
       "| 188 |    189 |      1.17051 |          0.68263 |    nan       |                   nan       |\n",
       "| 189 |    190 |      1.56425 |          0.55    |    nan       |                   nan       |\n",
       "| 190 |    191 |      0.5812  |          0.7619  |      0.55757 |                     0.75714 |\n",
       "| 191 |    192 |      0.41576 |          0.86577 |    nan       |                   nan       |\n",
       "| 192 |    193 |      0.82763 |          0.71429 |    nan       |                   nan       |\n",
       "| 193 |    194 |      0.44146 |          0.90625 |    nan       |                   nan       |\n",
       "| 194 |    195 |      1.32558 |          0.58065 |    nan       |                   nan       |\n",
       "| 195 |    196 |      2.68629 |          0.44828 |    nan       |                   nan       |\n",
       "| 196 |    197 |      0.65112 |          0.78571 |    nan       |                   nan       |\n",
       "| 197 |    198 |      1.00472 |          0.7482  |    nan       |                   nan       |\n",
       "| 198 |    199 |      0.83055 |          0.66667 |    nan       |                   nan       |\n",
       "| 199 |    200 |      0.78569 |          0.75342 |    nan       |                   nan       |\n",
       "| 200 |    201 |      0.41781 |          0.92105 |      0.57355 |                     0.75    |\n",
       "| 201 |    202 |      0.32689 |          0.90909 |    nan       |                   nan       |\n",
       "| 202 |    203 |      0.29552 |          0.94444 |    nan       |                   nan       |\n",
       "| 203 |    204 |      0.63551 |          0.81373 |    nan       |                   nan       |\n",
       "| 204 |    205 |      2.64015 |          0.4386  |    nan       |                   nan       |\n",
       "| 205 |    206 |      1.59507 |          0.59459 |    nan       |                   nan       |\n",
       "| 206 |    207 |      1.14114 |          0.62963 |    nan       |                   nan       |"
      ],
      "text/plain": [
       "<IPython.core.display.Markdown object>"
      ]
     },
     "metadata": {},
     "output_type": "display_data"
    }
   ],
   "source": [
    "# load content in pandas df\n",
    "\n",
    "df = pd.read_csv(result_filename)\n",
    "# show df \n",
    "display(Markdown(df.to_markdown()))"
   ]
  },
  {
   "cell_type": "code",
   "execution_count": 50,
   "metadata": {},
   "outputs": [
    {
     "data": {
      "text/plain": [
       "<Axes: xlabel='step'>"
      ]
     },
     "execution_count": 50,
     "metadata": {},
     "output_type": "execute_result"
    },
    {
     "data": {
      "image/png": "[encoded data removed]",
      "text/plain": [
       "<Figure size 640x480 with 1 Axes>"
      ]
     },
     "metadata": {},
     "output_type": "display_data"
    }
   ],
   "source": [
    "# plot results\n",
    "df_loss = df.dropna(subset=['valid_loss'])\n",
    "df_loss.plot(x='step', y='valid_loss', kind='line')"
   ]
  },
  {
   "cell_type": "markdown",
   "metadata": {},
   "source": [
    "## Use-sase example 2\n",
    "\n",
    "Build fine-tuned GPT model as code and API assistant for torch hub models (hundreds of API's)."
   ]
  },
  {
   "cell_type": "code",
   "execution_count": 51,
   "metadata": {},
   "outputs": [
    {
     "name": "stdout",
     "output_type": "stream",
     "text": [
      "Num examples: 506\n",
      "First example:\n",
      "{'role': 'system', 'content': 'You are an expert for torch hub APIs'}\n",
      "{'role': 'user', 'content': 'What API would help me estimate the depth of objects within a single image?'}\n",
      "{'role': 'assistant', 'content': '{\\'api_call\\': \"torch.hub.load(repo_or_dir=\\'intel-isl/MiDaS\\', model=\\'DPT_Large\\', pretrained=True)\", \\'api_arguments\\': {\\'repo_or_dir\\': \\'intel-isl/MiDaS\\', \\'model\\': \\'model_type\\'}, \\'functionality\\': \\'Computing relative depth from a single image\\', \\'description\\': \"\\'The MiDaS API can be used to compute relative depth from single images. It provides different models suitable for various use cases, with its largest model, DPT_Large, offering the highest accuracy.\\'\", \\'python_requirements\\': \\'pip install timm\\', \\'domain\\': \\'Classification\\'}'}\n"
     ]
    }
   ],
   "source": [
    "fname_train = \"../data/torchhub_finetune_train.json\"\n",
    "fname_val = \"../data/torchhub_finetune_val.json\"\n",
    "\n",
    "# Load the train dataset\n",
    "with open(fname_train, 'r', encoding='utf-8') as f:\n",
    "    lines = f.readlines()\n",
    "dataset_train = [json.loads(line) for line in lines]\n",
    "\n",
    "# Load the train dataset\n",
    "with open(fname_val, 'r', encoding='utf-8') as f:\n",
    "    lines = f.readlines()\n",
    "dataset_val = [json.loads(line) for line in lines]\n",
    "\n",
    "# Initial dataset stats\n",
    "print(\"Num examples:\", len(dataset_train))\n",
    "print(\"First example:\")\n",
    "for message in dataset_train[0][\"messages\"]:\n",
    "    print(message)"
   ]
  },
  {
   "cell_type": "code",
   "execution_count": 52,
   "metadata": {},
   "outputs": [
    {
     "name": "stdout",
     "output_type": "stream",
     "text": [
      "No errors found\n"
     ]
    }
   ],
   "source": [
    "validate_dataset(dataset_train)"
   ]
  },
  {
   "cell_type": "code",
   "execution_count": 53,
   "metadata": {},
   "outputs": [
    {
     "name": "stdout",
     "output_type": "stream",
     "text": [
      "No errors found\n"
     ]
    }
   ],
   "source": [
    "validate_dataset(dataset_val)"
   ]
  },
  {
   "cell_type": "code",
   "execution_count": 54,
   "metadata": {},
   "outputs": [],
   "source": [
    "# Uploadfiles\n",
    "\n",
    "response_train = client.files.create(\n",
    "  file=open(fname_train, \"rb\"),\n",
    "  purpose=\"fine-tune\"\n",
    ")\n",
    "train_id = response_train.id\n",
    "response_val = client.files.create(\n",
    "  file=open(fname_val, \"rb\"),\n",
    "  purpose=\"fine-tune\"\n",
    ")\n",
    "val_id = response_val.id"
   ]
  },
  {
   "cell_type": "code",
   "execution_count": 57,
   "metadata": {},
   "outputs": [],
   "source": [
    "# Cost estimates\n",
    "def estimate_job(dataset_train, cost_per_token=0.008/1000):\n",
    "    # Check token limits    \n",
    "    # Warnings and tokens counts\n",
    "    n_missing_system = 0\n",
    "    n_missing_user = 0\n",
    "    n_messages = []\n",
    "    convo_lens = []\n",
    "    assistant_message_lens = []\n",
    "    encoding = tiktoken.get_encoding(\"cl100k_base\")\n",
    "\n",
    "    for ex in dataset_train:\n",
    "        messages = ex[\"messages\"]\n",
    "        if not any(message[\"role\"] == \"system\" for message in messages):\n",
    "            n_missing_system += 1\n",
    "        if not any(message[\"role\"] == \"user\" for message in messages):\n",
    "            n_missing_user += 1\n",
    "        n_messages.append(len(messages))\n",
    "        convo_lens.append(num_tokens_from_messages(messages))\n",
    "        assistant_message_lens.append(num_assistant_tokens_from_messages(messages))\n",
    "        \n",
    "    print(\"Num examples missing system message:\", n_missing_system)\n",
    "    print(\"Num examples missing user message:\", n_missing_user)\n",
    "    print_distribution(n_messages, \"num_messages_per_example\")\n",
    "    print_distribution(convo_lens, \"num_total_tokens_per_example\")\n",
    "    print_distribution(assistant_message_lens, \"num_assistant_tokens_per_example\")\n",
    "    n_too_long = sum(l > 4096 for l in convo_lens)\n",
    "    print(f\"\\n{n_too_long} examples may be over the 4096 token limit, they will be truncated during fine-tuning\")\n",
    "\n",
    "    # Pricing and default n_epochs estimate\n",
    "    MAX_TOKENS_PER_EXAMPLE = 4096\n",
    "\n",
    "    n_epochs = 3\n",
    "    n_train_examples = len(dataset_train)\n",
    "\n",
    "    n_billing_tokens_in_dataset = sum(min(MAX_TOKENS_PER_EXAMPLE, length) for length in convo_lens)\n",
    "    print(f\"Dataset has ~{n_billing_tokens_in_dataset} tokens that will be charged for during training\")\n",
    "    print(f\"By default, you'll train for {n_epochs} epochs on this dataset\")\n",
    "    print(f\"By default, you'll be charged for ~{n_epochs * n_billing_tokens_in_dataset} tokens\")\n",
    "    cost = cost_per_token * n_epochs * n_billing_tokens_in_dataset\n",
    "    print(f'Estimated cost for training is {round(cost,2)} USD.')"
   ]
  },
  {
   "cell_type": "code",
   "execution_count": 58,
   "metadata": {},
   "outputs": [
    {
     "name": "stdout",
     "output_type": "stream",
     "text": [
      "Num examples missing system message: 0\n",
      "Num examples missing user message: 0\n",
      "\n",
      "#### Distribution of num_messages_per_example:\n",
      "min / max: 3, 3\n",
      "mean / median: 3.0, 3.0\n",
      "p5 / p95: 3.0, 3.0\n",
      "\n",
      "#### Distribution of num_total_tokens_per_example:\n",
      "min / max: 132, 237\n",
      "mean / median: 175.5395256916996, 174.0\n",
      "p5 / p95: 153.0, 199.0\n",
      "\n",
      "#### Distribution of num_assistant_tokens_per_example:\n",
      "min / max: 90, 186\n",
      "mean / median: 128.5098814229249, 127.0\n",
      "p5 / p95: 109.0, 149.0\n",
      "\n",
      "0 examples may be over the 4096 token limit, they will be truncated during fine-tuning\n",
      "Dataset has ~88823 tokens that will be charged for during training\n",
      "By default, you'll train for 3 epochs on this dataset\n",
      "By default, you'll be charged for ~266469 tokens\n",
      "Estimated cost for training is 2.13 USD.\n"
     ]
    }
   ],
   "source": [
    "estimate_job(dataset_train)"
   ]
  },
  {
   "cell_type": "code",
   "execution_count": 59,
   "metadata": {},
   "outputs": [
    {
     "name": "stdout",
     "output_type": "stream",
     "text": [
      "FineTuningJob(id='ftjob-fsyhIghKVv7KDejlRtYwRdsX', created_at=1700374142, error=None, fine_tuned_model=None, finished_at=None, hyperparameters=Hyperparameters(n_epochs='auto', batch_size='auto', learning_rate_multiplier='auto'), model='gpt-3.5-turbo-0613', object='fine_tuning.job', organization_id='org-vy6zLxkP3VBC5Lnu2GMLswhj', result_files=[], status='validating_files', trained_tokens=None, training_file='file-Eu7ckvDxL3Hwhj9t3OTPOsOU', validation_file='file-dhH91HXclXPXn3XAbrlHI44k')\n"
     ]
    }
   ],
   "source": [
    "# Create a fine-tuned mode\n",
    "job = client.fine_tuning.jobs.create(\n",
    "  training_file=train_id, \n",
    "  validation_file=val_id,\n",
    "  model=\"gpt-3.5-turbo\",\n",
    "  #hyperparameters={\"n_epochs\": 4}\n",
    ")\n",
    "job_id = job.id\n",
    "print(job)"
   ]
  },
  {
   "cell_type": "code",
   "execution_count": 63,
   "metadata": {},
   "outputs": [
    {
     "name": "stdout",
     "output_type": "stream",
     "text": [
      "Model is ready for use!\n",
      "Model name: ft:gpt-3.5-turbo-0613:sydney-informatics-hub::8MWDyqkm\n",
      "Model runtime: 3635 seconds\n",
      "Model trained tokens: 263433\n",
      "Model hyperparameters: Hyperparameters(n_epochs=3, batch_size=1, learning_rate_multiplier=2)\n",
      "Model result files: ['file-Z6SctSVVb2jpMOXTK76e0t6Y']\n"
     ]
    }
   ],
   "source": [
    "status = client.fine_tuning.jobs.retrieve(job_id)\n",
    "if status.status == \"succeeded\":\n",
    "    print(\"Model is ready for use!\")\n",
    "    model_id = status.id\n",
    "    model_runtime = status.finished_at - status.created_at\n",
    "    model_trained_tokens = status.trained_tokens\n",
    "    model_hyperparams = status.hyperparameters\n",
    "    model_name = status.fine_tuned_model\n",
    "    model_result_files = status.result_files\n",
    "    print(f\"Model name: {model_name}\")\n",
    "    print(f\"Model runtime: {model_runtime} seconds\")\n",
    "    print(f\"Model trained tokens: {model_trained_tokens}\")\n",
    "    print(f\"Model hyperparameters: {model_hyperparams}\")\n",
    "    print(f\"Model result files: {model_result_files}\")\n",
    "elif status.status == \"running\":\n",
    "    print(\"Model is not ready yet, try again later\")\n",
    "else:\n",
    "    print('status:', status.status)"
   ]
  },
  {
   "cell_type": "code",
   "execution_count": 64,
   "metadata": {},
   "outputs": [
    {
     "name": "stdout",
     "output_type": "stream",
     "text": [
      "Downloaded result file to step_metrics.csv\n"
     ]
    },
    {
     "data": {
      "text/plain": [
       "<Axes: xlabel='step'>"
      ]
     },
     "execution_count": 64,
     "metadata": {},
     "output_type": "execute_result"
    },
    {
     "data": {
      "image/png": "[encoded data removed]",
      "text/plain": [
       "<Figure size 640x480 with 1 Axes>"
      ]
     },
     "metadata": {},
     "output_type": "display_data"
    }
   ],
   "source": [
    "# Validation\n",
    "#result_file = 'file-Z6SctSVVb2jpMOXTK76e0t6Y'\n",
    "result_file_content = client.files.retrieve(model_result_files[0])\n",
    "url = f\"https://api.openai.com/v1/files/{result_file_content.id}/content\"\n",
    "r = requests.get(url, headers={\"Authorization\": f\"Bearer {openai.api_key}\"})\n",
    "if r.status_code == 200:\n",
    "    with open(result_filename, \"wb\") as f:\n",
    "        f.write(r.content)\n",
    "    print(f\"Downloaded result file to {result_filename}\")\n",
    "else:\n",
    "    print('Error downloading result file')\n",
    "\n",
    "df = pd.read_csv(result_filename)\n",
    "# show df \n",
    "#display(Markdown(df.to_markdown()))\n",
    "\n",
    "df_loss = df.dropna(subset=['valid_loss'])\n",
    "df_loss.plot(x='step', y='valid_loss', kind='line')"
   ]
  },
  {
   "cell_type": "code",
   "execution_count": 67,
   "metadata": {},
   "outputs": [
    {
     "data": {
      "text/markdown": [
       "Q: Design an intelligent robot. Tell me how to build a robot that can estimate objects' distance from its camera just by taking a photo."
      ],
      "text/plain": [
       "<IPython.core.display.Markdown object>"
      ]
     },
     "metadata": {},
     "output_type": "display_data"
    },
    {
     "data": {
      "text/markdown": [
       "{'api_call': \"torch.hub.load(repo_or_dir='intel-isl/MiDaS', model='DPT_Hybrid', pretrained=True)\", 'api_arguments': {'repo_or_dir': 'intel-isl/MiDaS', 'model': 'model_type'}, 'functionality': 'Computing relative depth from a single image', 'description': \"'Use the pretrained MiDaS model to estimate the relative depth of objects from a single image captured by the robot\\\\'s camera.'\", 'python_requirements': 'pip install timm', 'domain': 'Classification'}"
      ],
      "text/plain": [
       "<IPython.core.display.Markdown object>"
      ]
     },
     "metadata": {},
     "output_type": "display_data"
    }
   ],
   "source": [
    "# Test model\n",
    "isel = 3\n",
    "query = dataset_val[isel]['messages'][1]['content']\n",
    "test_answer = dataset_val[isel]['messages'][2]['content']\n",
    "display(Markdown('Q: ' + query))\n",
    "display(Markdown(test_answer))"
   ]
  },
  {
   "cell_type": "code",
   "execution_count": 68,
   "metadata": {},
   "outputs": [
    {
     "data": {
      "text/markdown": [
       "{'api_call': \"torch.hub.load(repo_or_dir='intel-isl/MiDaS', model='DPT_Hybrid', pretrained=True)\", 'api_arguments': {'repo_or_dir': 'intel-isl/MiDaS', 'model': 'model_type'}, 'functionality': 'Computing relative depth from a single image', 'description': \"'Load the pretrained MiDaS model from PyTorch Hub, which can estimate the relative depth of objects in an image, providing an approximation of their distance from the camera.'\", 'python_requirements': 'pip install timm', 'domain': 'Classification'}"
      ],
      "text/plain": [
       "<IPython.core.display.Markdown object>"
      ]
     },
     "metadata": {},
     "output_type": "display_data"
    }
   ],
   "source": [
    "# Get model response\n",
    "#model_name = \"ft:gpt-3.5-turbo-0613:sydney-informatics-hub::8MWDyqkm\"\n",
    "query = \"Tell me how to estimate objects' distance from its camera just by taking a photo\"\n",
    "system = \"You are an expert for torch hub APIs.\"\n",
    "result = query_gpt(query, model=model_name, system_str = system, temperature =0, max_tokens=1000)\n",
    "# print result as markdown\n",
    "display(Markdown(result))"
   ]
  },
  {
   "cell_type": "markdown",
   "metadata": {},
   "source": [
    "### Test generated API call"
   ]
  },
  {
   "cell_type": "code",
   "execution_count": 222,
   "metadata": {},
   "outputs": [
    {
     "data": {
      "text/markdown": [
       "First, you need to install the necessary dependencies. You can do this by running the following command in your Jupyter notebook:\n",
       "\n",
       "```python\n",
       "!pip install timm\n",
       "```\n",
       "\n",
       "Then, you can use the following code to load the pretrained MiDaS model from PyTorch Hub and estimate the relative depth from a single image:\n",
       "\n",
       "```python\n",
       "import torch\n",
       "import torchvision.transforms as transforms\n",
       "from PIL import Image\n",
       "\n",
       "# Load the pretrained MiDaS model from PyTorch Hub\n",
       "model = torch.hub.load('intel-isl/MiDaS', 'DPT_Large', pretrained=True)\n",
       "\n",
       "# Ensure the model is in evaluation mode\n",
       "model.eval()\n",
       "\n",
       "# Define the image transformation\n",
       "transform = transforms.Compose(\n",
       "    [\n",
       "        transforms.Resize(256),\n",
       "        transforms.ToTensor(),\n",
       "        transforms.Normalize(mean=[0.485, 0.456, 0.406], std=[0.229, 0.224, 0.225]),\n",
       "    ]\n",
       ")\n",
       "\n",
       "def estimate_distance(image_path):\n",
       "    # Load and transform the image\n",
       "    img = Image.open(image_path)\n",
       "    img = transform(img).unsqueeze(0)\n",
       "\n",
       "    # Ensure the image tensor is on the same device as the model\n",
       "    img = img.to(next(model.parameters()).device)\n",
       "\n",
       "    # Compute the depth map\n",
       "    with torch.no_grad():\n",
       "        depth_map = model(img)\n",
       "\n",
       "    # Convert the depth map to a numpy array\n",
       "    depth_map = depth_map.squeeze().cpu().numpy()\n",
       "\n",
       "    return depth_map\n",
       "```\n",
       "\n",
       "You can use the `estimate_distance` function to estimate the relative depth from a single image. The function takes the path to an image file as input and returns a depth map as a numpy array. The depth map can be used to estimate the distance of objects from the camera.\n",
       "\n",
       "Please note that this code assumes that you have a CUDA-compatible GPU available. If you don't, you can run the model on the CPU by replacing `img = img.to(next(model.parameters()).device)` with `img = img.cpu()`."
      ],
      "text/plain": [
       "<IPython.core.display.Markdown object>"
      ]
     },
     "metadata": {},
     "output_type": "display_data"
    }
   ],
   "source": [
    "# Ask GPT-4 to generate a function call\n",
    "query = f\"write code for Jupyter notebook to estimate objects' distance from its camera just by taking a photo.\\n\\\n",
    "    Use the API details below for creating code and dependency installation.\\n\\\n",
    "    API details: {result}\"\n",
    "\n",
    "model_name = \"gpt-4\"\n",
    "system = \"You are a Python coding assistant.\"\n",
    "result = query_gpt(query, model=model_name, system_str = system, temperature =0, max_tokens=1000)\n",
    "# print result as markdown\n",
    "display(Markdown(result))"
   ]
  },
  {
   "cell_type": "code",
   "execution_count": 223,
   "metadata": {},
   "outputs": [
    {
     "name": "stderr",
     "output_type": "stream",
     "text": [
      "Using cache found in /Users/seb/.cache/torch/hub/intel-isl_MiDaS_master\n",
      "Downloading: \"https://github.com/isl-org/MiDaS/releases/download/v3/dpt_large_384.pt\" to /Users/seb/.cache/torch/hub/checkpoints/dpt_large_384.pt\n",
      "100%|██████████| 1.28G/1.28G [01:28<00:00, 15.6MB/s] \n"
     ]
    }
   ],
   "source": [
    "import torch\n",
    "import torchvision.transforms as transforms\n",
    "from PIL import Image\n",
    "\n",
    "# Load the pretrained MiDaS model from PyTorch Hub\n",
    "model = torch.hub.load('intel-isl/MiDaS', 'DPT_Large', pretrained=True)\n",
    "\n",
    "# Ensure the model is in evaluation mode\n",
    "model.eval()\n",
    "\n",
    "# Define the image transformation\n",
    "transform = transforms.Compose(\n",
    "    [\n",
    "        transforms.Resize(256),\n",
    "        transforms.ToTensor(),\n",
    "        transforms.Normalize(mean=[0.485, 0.456, 0.406], std=[0.229, 0.224, 0.225]),\n",
    "    ]\n",
    ")\n",
    "\n",
    "def estimate_distance(image_path):\n",
    "    # Load and transform the image\n",
    "    img = Image.open(image_path)\n",
    "    img = transform(img).unsqueeze(0)\n",
    "\n",
    "    # Ensure the image tensor is on the same device as the model\n",
    "    img = img.to(next(model.parameters()).device)\n",
    "\n",
    "    # Compute the depth map\n",
    "    with torch.no_grad():\n",
    "        depth_map = model(img)\n",
    "\n",
    "    # Convert the depth map to a numpy array\n",
    "    depth_map = depth_map.squeeze().cpu().numpy()\n",
    "\n",
    "    return depth_map"
   ]
  },
  {
   "cell_type": "code",
   "execution_count": 225,
   "metadata": {},
   "outputs": [],
   "source": [
    "# Test generated code on example image above\n",
    "url = \"https://informatics.sydney.edu.au/images/CodingChallengeImages/innov_award.JPG\"\n",
    "# download image to file\n",
    "fname_img = 'image.jpg'\n",
    "r = requests.get(url, allow_redirects=True)\n",
    "open(fname_img, 'wb').write(r.content)\n",
    "\n",
    "depth_map = estimate_distance(fname_img)"
   ]
  },
  {
   "cell_type": "code",
   "execution_count": 229,
   "metadata": {},
   "outputs": [
    {
     "data": {
      "image/png": "[encoded data removed]",
      "text/plain": [
       "<Figure size 640x480 with 1 Axes>"
      ]
     },
     "metadata": {},
     "output_type": "display_data"
    }
   ],
   "source": [
    "# show depth map\n",
    "import matplotlib.pyplot as plt\n",
    "plt.imshow(depth_map)\n",
    "plt.show()"
   ]
  }
 ],
 "metadata": {
  "kernelspec": {
   "display_name": "Python 3 (ipykernel)",
   "language": "python",
   "name": "python3"
  },
  "language_info": {
   "codemirror_mode": {
    "name": "ipython",
    "version": 3
   },
   "file_extension": ".py",
   "mimetype": "text/x-python",
   "name": "python",
   "nbconvert_exporter": "python",
   "pygments_lexer": "ipython3",
   "version": "3.11.6"
  }
 },
 "nbformat": 4,
 "nbformat_minor": 4
}
